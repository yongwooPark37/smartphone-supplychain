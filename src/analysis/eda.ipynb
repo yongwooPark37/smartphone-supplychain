{
  "cells": [
    {
      "cell_type": "code",
      "execution_count": 2,
      "metadata": {},
      "outputs": [
        {
          "name": "stdout",
          "output_type": "stream",
          "text": [
            "EDA images saved:\n",
            " - C:\\projects\\smartphone-supplychain\\data\\eda_country_demand_overlay.png\n",
            " - C:\\projects\\smartphone-supplychain\\data\\eda_country_demand_by_country.png\n"
          ]
        }
      ],
      "source": [
        "# EDA: Country-level demand visualization (English labels)\n",
        "import pandas as pd\n",
        "import numpy as np\n",
        "import matplotlib\n",
        "matplotlib.use('Agg')\n",
        "import matplotlib.pyplot as plt\n",
        "from pathlib import Path\n",
        "\n",
        "DATA_DIR = Path('C:/projects/smartphone-supplychain/data')\n",
        "\n",
        "# Load data\n",
        "import sqlite3\n",
        "with sqlite3.connect(DATA_DIR / 'demand_train.db') as conn:\n",
        "    demand = pd.read_sql_query('SELECT * FROM demand_train', conn)\n",
        "\n",
        "demand['date'] = pd.to_datetime(demand['date'])\n",
        "\n",
        "# City-to-country mapping (same as model)\n",
        "country_map = {\n",
        "    'Washington_DC': 'USA', 'New_York': 'USA', 'Chicago': 'USA', 'Dallas': 'USA',\n",
        "    'Berlin': 'DEU', 'Munich': 'DEU', 'Frankfurt': 'DEU', 'Hamburg': 'DEU',\n",
        "    'Paris': 'FRA', 'Lyon': 'FRA', 'Marseille': 'FRA', 'Toulouse': 'FRA',\n",
        "    'Seoul': 'KOR', 'Busan': 'KOR', 'Incheon': 'KOR', 'Gwangju': 'KOR',\n",
        "    'Tokyo': 'JPN', 'Osaka': 'JPN', 'Nagoya': 'JPN', 'Fukuoka': 'JPN',\n",
        "    'Manchester': 'GBR', 'London': 'GBR', 'Birmingham': 'GBR', 'Glasgow': 'GBR',\n",
        "    'Ottawa': 'CAN', 'Toronto': 'CAN', 'Vancouver': 'CAN', 'Montreal': 'CAN',\n",
        "    'Canberra': 'AUS', 'Sydney': 'AUS', 'Melbourne': 'AUS', 'Brisbane': 'AUS',\n",
        "    'Brasilia': 'BRA', 'Sao_Paulo': 'BRA', 'Rio_de_Janeiro': 'BRA', 'Salvador': 'BRA',\n",
        "    'Pretoria': 'ZAF', 'Johannesburg': 'ZAF', 'Cape_Town': 'ZAF', 'Durban': 'ZAF'\n",
        "}\n",
        "\n",
        "demand['country'] = demand['city'].map(country_map)\n",
        "\n",
        "# Aggregate daily demand per country\n",
        "country_daily = (\n",
        "    demand.groupby(['date', 'country'])['demand']\n",
        "    .sum()\n",
        "    .reset_index()\n",
        ")\n",
        "\n",
        "# Load launch dates (>= 2018-01-01)\n",
        "sku_meta = pd.read_csv(DATA_DIR / 'sku_meta.csv', parse_dates=['launch_date'])\n",
        "sku_meta = sku_meta[sku_meta['launch_date'] >= pd.Timestamp('2018-01-01')]\n",
        "launch_dates = sku_meta[['sku', 'launch_date']]\n",
        "\n",
        "# Country list (max 10)\n",
        "countries = country_daily['country'].dropna().unique().tolist()\n",
        "if len(countries) > 10:\n",
        "    countries = countries[:10]\n",
        "\n",
        "# 1) Overlay: 10 countries in one plot (English labels)\n",
        "plt.figure(figsize=(16, 8))\n",
        "for c in countries:\n",
        "    s = country_daily[country_daily['country'] == c].sort_values('date')\n",
        "    plt.plot(s['date'], s['demand'], label=c)\n",
        "\n",
        "# Mark launch dates\n",
        "for _, row in launch_dates.iterrows():\n",
        "    plt.axvline(row['launch_date'], color='red', alpha=0.6, linewidth=2, linestyle='--')\n",
        "\n",
        "plt.title('Total demand by country (overlay)')\n",
        "plt.xlabel('Date')\n",
        "plt.ylabel('Demand')\n",
        "plt.legend(ncol=5, fontsize=8)\n",
        "plt.grid(True, alpha=0.3)\n",
        "plt.tight_layout()\n",
        "plt.savefig(DATA_DIR / 'eda_country_demand_overlay.png', dpi=300, bbox_inches='tight')\n",
        "plt.close()\n",
        "\n",
        "# 2) Individual plots per country\n",
        "fig, axes = plt.subplots(10, 1, figsize=(16, 24), sharex=True)\n",
        "for i, c in enumerate(countries[:10]):\n",
        "    ax = axes[i]\n",
        "    s = country_daily[country_daily['country'] == c].sort_values('date')\n",
        "    ax.plot(s['date'], s['demand'], label=c, color='tab:blue')\n",
        "    for _, row in launch_dates.iterrows():\n",
        "        ax.axvline(row['launch_date'], color='red', alpha=0.6, linewidth=2, linestyle='--')\n",
        "    ax.set_title(f'{c} - Total demand')\n",
        "    ax.set_ylabel('Demand')\n",
        "    ax.grid(True, alpha=0.3)\n",
        "    ax.legend()\n",
        "\n",
        "axes[-1].set_xlabel('Date')\n",
        "plt.tight_layout()\n",
        "plt.savefig(DATA_DIR / 'eda_country_demand_by_country.png', dpi=300, bbox_inches='tight')\n",
        "plt.close()\n",
        "\n",
        "print('EDA images saved:')\n",
        "print(' -', DATA_DIR / 'eda_country_demand_overlay.png')\n",
        "print(' -', DATA_DIR / 'eda_country_demand_by_country.png')\n",
        "\n",
        "# 3) Specific country-year visualizations\n",
        "specific_periods = [\n",
        "    ('KOR', 2018, 'Korea 2018'),\n",
        "    ('JPN', 2019, 'Japan 2019'), \n",
        "    ('USA', 2020, 'USA 2020'),\n",
        "    ('USA', 2021, 'USA 2021'),\n",
        "    ('KOR', 2022, 'Korea 2022')\n",
        "]\n",
        "\n",
        "fig, axes = plt.subplots(5, 1, figsize=(16, 20), sharex=True)\n",
        "for i, (country, year, title) in enumerate(specific_periods):\n",
        "    ax = axes[i]\n",
        "    \n",
        "    # Filter data for specific country and year\n",
        "    mask = (country_daily['country'] == country) & (country_daily['date'].dt.year == year)\n",
        "    period_data = country_daily[mask].sort_values('date')\n",
        "    \n",
        "    # Plot demand\n",
        "    ax.plot(period_data['date'], period_data['demand'], color='blue', linewidth=2)\n",
        "    \n",
        "    # Mark launch dates for this period\n",
        "    period_launches = launch_dates[\n",
        "        (launch_dates['launch_date'].dt.year == year) & \n",
        "        (launch_dates['launch_date'] >= period_data['date'].min()) &\n",
        "        (launch_dates['launch_date'] <= period_data['date'].max())\n",
        "    ]\n",
        "    \n",
        "    for _, row in period_launches.iterrows():\n",
        "        ax.axvline(row['launch_date'], color='red', alpha=0.8, linewidth=3, linestyle='--')\n",
        "    \n",
        "    ax.set_title(f'{title} - Daily Demand', fontsize=14, fontweight='bold')\n",
        "    ax.set_ylabel('Demand')\n",
        "    ax.grid(True, alpha=0.3)\n",
        "    \n",
        "    # Add launch date annotations\n",
        "    for _, row in period_launches.iterrows():\n",
        "        ax.annotate(f\"Launch: {row['sku']}\", \n",
        "                   xy=(row['launch_date'], ax.get_ylim()[1] * 0.9),\n",
        "                   xytext=(10, 0), textcoords='offset points',\n",
        "                   fontsize=10, color='red', fontweight='bold',\n",
        "                   bbox=dict(boxstyle='round,pad=0.3', facecolor='white', alpha=0.8))\n",
        "\n",
        "axes[-1].set_xlabel('Date')\n",
        "plt.tight_layout()\n",
        "plt.savefig(DATA_DIR / 'eda_specific_country_years.png', dpi=300, bbox_inches='tight')\n",
        "plt.close()\n",
        "\n",
        "print(' -', DATA_DIR / 'eda_specific_country_years.png')

# 4) 2023-2024 Consumer Confidence Visualization (Future Years)
print("Creating 2023-2024 consumer confidence visualization...")

# Load consumer confidence data
consumer_conf = pd.read_csv(DATA_DIR / 'consumer_confidence_processed.csv', parse_dates=['date'])

if not consumer_conf.empty:
    # Calculate global statistics for scaling
    if 'country' in consumer_conf.columns:
        global_conf_mean = consumer_conf['confidence_index'].mean()
        global_conf_std = consumer_conf['confidence_index'].std()
    else:
        global_conf_mean = consumer_conf['confidence_index'].mean()
        global_conf_std = consumer_conf['confidence_index'].std()
    
    print(f"Global consumer confidence - Mean: {global_conf_mean:.2f}, Std: {global_conf_std:.2f}")
    
    # Create subplots for 2023 and 2024
    fig, axes = plt.subplots(2, 1, figsize=(16, 8))
    
    for i, year in enumerate([2023, 2024]):
        ax = axes[i]
        
        # Filter data for this year
        year_mask = consumer_conf['date'].dt.year == year
        year_data = consumer_conf[year_mask].copy()
        
        if year_data.empty:
            ax.text(0.5, 0.5, f'No data for {year}', ha='center', va='center', transform=ax.transAxes)
            ax.set_title(f'Consumer Confidence {year} - No Data')
            continue
        
        # Get unique countries
        if 'country' in year_data.columns:
            countries = sorted(year_data['country'].unique())
        else:
            # If no country column, treat as global data
            countries = ['Global']
            year_data['country'] = 'Global'
        
        print(f"Countries available for {year}: {countries}")
        
        # Plot each country's consumer confidence
        for country in countries:
            country_data = year_data[year_data['country'] == country].sort_values('date')
            
            if not country_data.empty:
                # Scale the confidence index
                scaled_conf = (country_data['confidence_index'] - global_conf_mean) / global_conf_std
                
                # Plot the line
                ax.plot(country_data['date'], scaled_conf, 
                       label=country, linewidth=2, alpha=0.8)
        
        ax.set_title(f'Consumer Confidence {year} (Scaled)', fontsize=14, fontweight='bold')
        ax.set_ylabel('Consumer Confidence (Z-score)')
        ax.grid(True, alpha=0.3)
        ax.legend(bbox_to_anchor=(1.05, 1), loc='upper left')
        
        # Format x-axis
        ax.xaxis.set_major_locator(plt.matplotlib.dates.MonthLocator())
        ax.xaxis.set_major_formatter(plt.matplotlib.dates.DateFormatter('%b'))
        
        # Set x-axis limits to the year
        ax.set_xlim(pd.Timestamp(f'{year}-01-01'), pd.Timestamp(f'{year}-12-31'))
    
    plt.tight_layout()
    plt.savefig(DATA_DIR / 'eda_consumer_confidence_2023_2024.png', dpi=300, bbox_inches='tight')
    plt.close()
    
    print("2023-2024 consumer confidence visualization completed!")
    print(' -', DATA_DIR / 'eda_consumer_confidence_2023_2024.png')
else:
    print("No consumer confidence data available for 2023-2024 visualization")\n"
      ]
    }
  ],
  "metadata": {
    "kernelspec": {
      "display_name": "base",
      "language": "python",
      "name": "python3"
    },
    "language_info": {
      "codemirror_mode": {
        "name": "ipython",
        "version": 3
      },
      "file_extension": ".py",
      "mimetype": "text/x-python",
      "name": "python",
      "nbconvert_exporter": "python",
      "pygments_lexer": "ipython3",
      "version": "3.12.4"
    }
  },
  "nbformat": 4,
  "nbformat_minor": 2
}
